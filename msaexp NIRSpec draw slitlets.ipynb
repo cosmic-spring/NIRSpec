{
 "cells": [
  {
   "cell_type": "markdown",
   "id": "c1f3c1e6",
   "metadata": {},
   "source": [
    "https://github.com/gbrammer/msaexp/\n",
    "\n",
    "https://github.com/gbrammer/msaexp/blob/d10a7e94e157dfb7b99b9016c50b20b709b41b6b/msaexp/msa.py#L191\n",
    "\n",
    "see example code in class MSAMetafile: ### Make a plot with slitlets"
   ]
  },
  {
   "cell_type": "code",
   "execution_count": 1,
   "id": "81566713",
   "metadata": {},
   "outputs": [
    {
     "name": "stdout",
     "output_type": "stream",
     "text": [
      "msaexp version = 0.6.0\n",
      "grizli version = 1.7.5\n",
      "matplotlib version = 3.7.0\n",
      "astropy version = 3.7.0\n"
     ]
    }
   ],
   "source": [
    "import os\n",
    "import glob\n",
    "import yaml\n",
    "import warnings\n",
    "\n",
    "import numpy as np\n",
    "import matplotlib.pyplot as plt\n",
    "import matplotlib\n",
    "plt.style.use('https://www.stsci.edu/~dcoe/matplotlibrc.txt')\n",
    "%matplotlib inline\n",
    "\n",
    "import PIL\n",
    "from PIL import Image, ImageEnhance\n",
    "PIL.Image.MAX_IMAGE_PIXELS = 933120000  # allow it to load large image\n",
    "\n",
    "import grizli\n",
    "from grizli import utils, jwst_utils\n",
    "jwst_utils.set_quiet_logging()\n",
    "utils.set_warnings()\n",
    "\n",
    "import astropy.io.fits as pyfits\n",
    "from astropy.io import fits\n",
    "import astropy.wcs as wcs\n",
    "from astropy.coordinates import SkyCoord\n",
    "import astropy.units as u\n",
    "\n",
    "from jwst.datamodels import SlitModel\n",
    "\n",
    "import msaexp\n",
    "from msaexp import pipeline, msa\n",
    "\n",
    "print(f'msaexp version = {msaexp.__version__}')\n",
    "print(f'grizli version = {grizli.__version__}')\n",
    "print(f'matplotlib version = {matplotlib.__version__}')\n",
    "print(f'astropy version = {matplotlib.__version__}')"
   ]
  },
  {
   "cell_type": "code",
   "execution_count": 2,
   "id": "04771e65",
   "metadata": {},
   "outputs": [],
   "source": [
    "def roundint(x):\n",
    "    return int(np.round(x))\n",
    "\n",
    "def slices_extent(x, y, dx, dy=0):\n",
    "    dy = dy or dx\n",
    "    xlo = roundint(x-dx)\n",
    "    xhi = roundint(x+dx+1)\n",
    "    ylo = roundint(y-dy)\n",
    "    yhi = roundint(y+dy+1)\n",
    "    xslice = slice(xlo, xhi)\n",
    "    yslice = slice(ylo, yhi)\n",
    "    slices = yslice, xslice\n",
    "    extent = xlo, xhi, ylo, yhi\n",
    "    return slices, extent"
   ]
  },
  {
   "cell_type": "code",
   "execution_count": 3,
   "id": "35f82b6b",
   "metadata": {},
   "outputs": [
    {
     "data": {
      "text/plain": [
       "'/Users/dcoe/macs0647/MSA/dataObs23'"
      ]
     },
     "execution_count": 3,
     "metadata": {},
     "output_type": "execute_result"
    }
   ],
   "source": [
    "prog = 1433\n",
    "outroot = 'macs0647'\n",
    "file_version = 'v1'\n",
    "os.getcwd()"
   ]
  },
  {
   "cell_type": "code",
   "execution_count": 4,
   "id": "9355db0b",
   "metadata": {},
   "outputs": [],
   "source": [
    "# Query NIRSpec data for a program name\n",
    "masks = pipeline.query_program(prog, download=True)"
   ]
  },
  {
   "cell_type": "code",
   "execution_count": 5,
   "id": "abc0259e",
   "metadata": {},
   "outputs": [
    {
     "name": "stdout",
     "output_type": "stream",
     "text": [
      "   N  value     \n",
      "====  ==========\n",
      "   1  jw01433021001-01-clear-prism-nrs1\n",
      "   1  jw01433021001-01-clear-prism-nrs2\n",
      "   1  jw01433021001-02-clear-prism-nrs1\n",
      "   1  jw01433021001-02-clear-prism-nrs2\n",
      "   3  jw01433023001-01-clear-prism-nrs1\n",
      "   3  jw01433023001-01-clear-prism-nrs2\n",
      "\n",
      "Files:\n",
      "======\n",
      "jw01433021001-01-clear-prism-nrs1:\n",
      "- jw01433021001_03101_00001_nrs1_rate.fits\n",
      "jw01433021001-01-clear-prism-nrs2:\n",
      "- jw01433021001_03101_00001_nrs2_rate.fits\n",
      "jw01433021001-02-clear-prism-nrs1:\n",
      "- jw01433021001_05101_00001_nrs1_rate.fits\n",
      "jw01433021001-02-clear-prism-nrs2:\n",
      "- jw01433021001_05101_00001_nrs2_rate.fits\n",
      "jw01433023001-01-clear-prism-nrs1:\n",
      "- jw01433023001_04101_00002_nrs1_rate.fits\n",
      "- jw01433023001_04101_00003_nrs1_rate.fits\n",
      "- jw01433023001_04101_00001_nrs1_rate.fits\n",
      "jw01433023001-01-clear-prism-nrs2:\n",
      "- jw01433023001_04101_00001_nrs2_rate.fits\n",
      "- jw01433023001_04101_00002_nrs2_rate.fits\n",
      "- jw01433023001_04101_00003_nrs2_rate.fits\n",
      "\n"
     ]
    }
   ],
   "source": [
    "files = glob.glob(f'jw0{prog}*rate.fits')\n",
    "\n",
    "groups = pipeline.exposure_groups(files=files)\n",
    "\n",
    "print('\\nFiles:\\n======')\n",
    "print(yaml.dump(dict(groups)))"
   ]
  },
  {
   "cell_type": "code",
   "execution_count": 6,
   "id": "5b197bfe",
   "metadata": {},
   "outputs": [
    {
     "name": "stdout",
     "output_type": "stream",
     "text": [
      "# (2023-03-02 18:31:56.254)\n",
      "msaexp.NirspecPipeline: Initialize jw01433023001-01-clear-prism-nrs1\n",
      "msaexp.NirspecPipeline: jw01433023001_04101_00001_nrs1_rate.fits\n",
      "msaexp.NirspecPipeline: jw01433023001_04101_00002_nrs1_rate.fits\n",
      "msaexp.NirspecPipeline: jw01433023001_04101_00003_nrs1_rate.fits\n",
      "msaexp.NirspecPipeline: mode=jw01433023001-01-clear-prism-nrs1 msametfl=jw01433023001_01_msa.fits\n"
     ]
    }
   ],
   "source": [
    "pipe = pipeline.NirspecPipeline(mode='jw01433023001-01-clear-prism-nrs1') "
   ]
  },
  {
   "cell_type": "code",
   "execution_count": 7,
   "id": "edf207c5",
   "metadata": {},
   "outputs": [],
   "source": [
    "meta = msa.MSAMetafile('jw01433023001_01_msa.fits')"
   ]
  },
  {
   "cell_type": "code",
   "execution_count": 8,
   "id": "507c4a7e",
   "metadata": {},
   "outputs": [],
   "source": [
    "cosd = np.cos(np.median(meta.src_table['dec'])/180*np.pi)"
   ]
  },
  {
   "cell_type": "code",
   "execution_count": 9,
   "id": "4778d060",
   "metadata": {},
   "outputs": [
    {
     "data": {
      "text/html": [
       "<div><i>Table length=2</i>\n",
       "<table id=\"table6408819456\" class=\"table-striped table-bordered table-condensed\">\n",
       "<thead><tr><th>program</th><th>source_id</th><th>source_name</th><th>alias</th><th>ra</th><th>dec</th><th>preimage_id</th><th>stellarity</th></tr></thead>\n",
       "<thead><tr><th>int32</th><th>int32</th><th>str20</th><th>str31</th><th>float64</th><th>float64</th><th>str30</th><th>float64</th></tr></thead>\n",
       "<tr><td>1433</td><td>731</td><td>1433_731</td><td>731</td><td>101.914529</td><td>70.193369</td><td>None</td><td>-1.0</td></tr>\n",
       "<tr><td>1433</td><td>756</td><td>1433_756</td><td>756</td><td>101.890665</td><td>70.193726</td><td>None</td><td>-1.0</td></tr>\n",
       "</table></div>"
      ],
      "text/plain": [
       "<Table length=2>\n",
       "program source_id source_name alias     ra        dec    preimage_id stellarity\n",
       " int32    int32      str20    str31  float64    float64     str30     float64  \n",
       "------- --------- ----------- ----- ---------- --------- ----------- ----------\n",
       "   1433       731    1433_731   731 101.914529 70.193369        None       -1.0\n",
       "   1433       756    1433_756   756 101.890665 70.193726        None       -1.0"
      ]
     },
     "execution_count": 9,
     "metadata": {},
     "output_type": "execute_result"
    }
   ],
   "source": [
    "meta.src_table[:2]  # show first few rows"
   ]
  },
  {
   "cell_type": "code",
   "execution_count": 10,
   "id": "07d5d64b",
   "metadata": {},
   "outputs": [
    {
     "name": "stderr",
     "output_type": "stream",
     "text": [
      "2023-03-02 13:31:56,604 - stpipe - WARNING - /var/folders/y3/vsjr6j554mnfpgy_m1xrnckm0003tz/T/ipykernel_7362/370765965.py:3: DeprecationWarning: FLIP_TOP_BOTTOM is deprecated and will be removed in Pillow 10 (2023-07-01). Use Transpose.FLIP_TOP_BOTTOM instead.\n",
      "  im = im.transpose(method=Image.FLIP_TOP_BOTTOM)\n",
      "\n"
     ]
    }
   ],
   "source": [
    "color_image_file = '/Users/dcoe/macs0647/v5/color/macs0647_color.png'\n",
    "im = Image.open(color_image_file)\n",
    "im = im.transpose(method=Image.FLIP_TOP_BOTTOM)\n",
    "color_image = np.asarray(im)"
   ]
  },
  {
   "cell_type": "code",
   "execution_count": 11,
   "id": "5661bc2c",
   "metadata": {},
   "outputs": [
    {
     "data": {
      "text/plain": [
       "'/Users/dcoe/macs0647/v5/images/20mas/macs0647-f150w-clear_drc_sci.fits'"
      ]
     },
     "execution_count": 11,
     "metadata": {},
     "output_type": "execute_result"
    }
   ],
   "source": [
    "from glob import glob\n",
    "fits_image_file = glob('/Users/dcoe/macs0647/v5/images/20mas/*.fits')[-1]\n",
    "fits_image_file  # for RA, Dec -> x, y"
   ]
  },
  {
   "cell_type": "code",
   "execution_count": 12,
   "id": "0fb482a9",
   "metadata": {},
   "outputs": [
    {
     "data": {
      "text/plain": [
       "WCS Keywords\n",
       "\n",
       "Number of WCS axes: 2\n",
       "CTYPE : 'RA---TAN'  'DEC--TAN'  \n",
       "CRVAL : 102.01309126412  70.228213113066  \n",
       "CRPIX : 9321.0  9128.0  \n",
       "CD1_1 CD1_2  : -5.5555555555555e-06  0.0  \n",
       "CD2_1 CD2_2  : 0.0  5.5555555555555e-06  \n",
       "NAXIS : 18640  18254"
      ]
     },
     "execution_count": 12,
     "metadata": {},
     "output_type": "execute_result"
    }
   ],
   "source": [
    "hdu = fits.open(fits_image_file)\n",
    "idata = 0\n",
    "image_wcs = wcs.WCS(hdu[idata].header, hdu)\n",
    "image_wcs"
   ]
  },
  {
   "cell_type": "code",
   "execution_count": 13,
   "id": "8a760b60",
   "metadata": {},
   "outputs": [
    {
     "name": "stdout",
     "output_type": "stream",
     "text": [
      "x =  [15580.08240258 15582.41094197 15557.95625168 15555.62776189]\n",
      "y =  [3211.72410199 3223.22028403 3228.50891317 3217.01314423]\n",
      "x =  [15553.89872217 15556.22720845 15531.77467604 15529.44623938]\n",
      "y =  [3217.38709693 3228.88283667 3234.17090073 3222.67557409]\n",
      "x =  [15527.71735224 15530.04578539 15505.59541083 15503.26702732]\n",
      "y =  [3223.04948684 3234.54478427 3239.8322832  3228.33739886]\n"
     ]
    },
    {
     "data": {
      "text/plain": [
       "[array([[101.91044449,  70.19532116],\n",
       "        [101.91040599,  70.19538501],\n",
       "        [101.91080683,  70.19541462],\n",
       "        [101.91084533,  70.19535077]]),\n",
       " array([[101.91087367,  70.19535287],\n",
       "        [101.91083517,  70.19541671],\n",
       "        [101.91123597,  70.19544632],\n",
       "        [101.91127447,  70.19538248]]),\n",
       " array([[101.91130281,  70.19538457],\n",
       "        [101.91126431,  70.19544841],\n",
       "        [101.91166508,  70.19547801],\n",
       "        [101.91170358,  70.19541417]])]"
      ]
     },
     "execution_count": 13,
     "metadata": {},
     "output_type": "execute_result"
    }
   ],
   "source": [
    "id = 886  # z = 2.1 red galaxy\n",
    "slitlets_radec = []\n",
    "\n",
    "slits = meta.regions_from_metafile(dither_point_index=1, as_string=False, with_bars=True)\n",
    "for s in slits:\n",
    "    if s.meta['source_id'] in [id]:\n",
    "        radec = s.xy[0]\n",
    "        slitlets_radec.append(radec)\n",
    "        ra, dec = radec.T\n",
    "        slit_coordinates = SkyCoord(ra=ra*u.deg, dec=dec*u.deg)\n",
    "        xy = x, y = image_wcs.world_to_pixel(slit_coordinates)\n",
    "        print('x = ', x)\n",
    "        print('y = ', y)\n",
    "        if s.meta['is_source']:\n",
    "            slices, extent = slices_extent(np.mean(x), np.mean(y), 50)\n",
    "\n",
    "slitlets_radec"
   ]
  },
  {
   "cell_type": "code",
   "execution_count": 14,
   "id": "7317f516",
   "metadata": {},
   "outputs": [
    {
     "data": {
      "image/png": "[encoded data removed]",
      "text/plain": [
       "<Figure size 684x432 with 1 Axes>"
      ]
     },
     "metadata": {
      "needs_background": "light"
     },
     "output_type": "display_data"
    }
   ],
   "source": [
    "ra, dec = slitlets_radec[1].T\n",
    "slit_coordinates = SkyCoord(ra=ra*u.deg, dec=dec*u.deg)\n",
    "xy = x, y = image_wcs.world_to_pixel(slit_coordinates)\n",
    "dx = 50  # pixels 0.02\" -> dx = 1\" so image stamp will be 2\" on each side\n",
    "slices, extent = slices_extent(np.mean(x), np.mean(y), dx)\n",
    "\n",
    "fig = plt.figure(figsize=(9.5, 6))\n",
    "ax = fig.add_subplot(1, 1, 1) #, projection=imwcs) # , sharex=True, sharey=True)\n",
    "ax.imshow(color_image[slices], extent=extent) #, origin='lower')\n",
    "\n",
    "for radec in slitlets_radec:\n",
    "    ra, dec = radec.T\n",
    "    slit_coordinates = SkyCoord(ra=ra*u.deg, dec=dec*u.deg)\n",
    "    xy = x, y = image_wcs.world_to_pixel(slit_coordinates)\n",
    "    xy = np.array(xy).T  # (4, 2)\n",
    "    #print(np.mean(x), np.mean(y))\n",
    "    patch = matplotlib.patches.Polygon(xy, fc='None', ec='r', alpha=1, zorder=100)\n",
    "    ax.add_patch(patch)\n",
    "\n",
    "ax.axis('off')\n",
    "plt.show()"
   ]
  },
  {
   "cell_type": "code",
   "execution_count": null,
   "id": "b6e8fa5f",
   "metadata": {},
   "outputs": [],
   "source": []
  }
 ],
 "metadata": {
  "kernelspec": {
   "display_name": "Python 3",
   "language": "python",
   "name": "python3"
  },
  "language_info": {
   "codemirror_mode": {
    "name": "ipython",
    "version": 3
   },
   "file_extension": ".py",
   "mimetype": "text/x-python",
   "name": "python",
   "nbconvert_exporter": "python",
   "pygments_lexer": "ipython3",
   "version": "3.10.4"
  }
 },
 "nbformat": 4,
 "nbformat_minor": 5
}
